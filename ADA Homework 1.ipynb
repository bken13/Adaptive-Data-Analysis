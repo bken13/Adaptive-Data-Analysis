{
 "cells": [
  {
   "cell_type": "code",
   "execution_count": 74,
   "id": "9358cb42",
   "metadata": {},
   "outputs": [],
   "source": [
    "import random\n",
    "import math\n",
    "import numpy as np\n",
    "from matplotlib import pyplot as plt"
   ]
  },
  {
   "cell_type": "code",
   "execution_count": 60,
   "id": "dd50ae0e",
   "metadata": {},
   "outputs": [],
   "source": [
    "def getX(length):\n",
    "    toReturn = \"\"\n",
    "    for i in range(length):\n",
    "        toReturn += str(random.randint(0,1))\n",
    "    return toReturn"
   ]
  },
  {
   "cell_type": "code",
   "execution_count": 61,
   "id": "f6ebb5e3",
   "metadata": {},
   "outputs": [],
   "source": [
    "def getS(n, d):\n",
    "    xList = []\n",
    "    yList = []\n",
    "    \n",
    "    for i in range(n):\n",
    "        xList.append(getX(d))\n",
    "        yList.append(random.randint(0,1))\n",
    "    \n",
    "    return list(zip(xList, yList))"
   ]
  },
  {
   "cell_type": "code",
   "execution_count": 62,
   "id": "a0f51b90",
   "metadata": {},
   "outputs": [],
   "source": [
    "def q_j(pair, j):\n",
    "    #return 1 if the jth bit in some x equals the value of the corresponding y, 0 otherwise\n",
    "    if (pair[0][j] == str(pair[1])):\n",
    "        return 1\n",
    "    else:\n",
    "        return 0"
   ]
  },
  {
   "cell_type": "code",
   "execution_count": 63,
   "id": "ccf93267",
   "metadata": {},
   "outputs": [],
   "source": [
    "def getGoodQJs(n,d, S):\n",
    "    goodQJs = []\n",
    "    \n",
    "    #find c_j for each j in {1, ..., d}\n",
    "    #iterate over j's first\n",
    "    \n",
    "    for j in range(d):\n",
    "        sum = 0\n",
    "       \n",
    "        #iterate over pairs in S for each j\n",
    "        for i in range(len(S)):\n",
    "            sum += q_j(S[0], j)\n",
    "            \n",
    "        c_j = sum/n\n",
    "        \n",
    "        if c_j > ((1/2) + (1/math.sqrt(n))):\n",
    "            goodQJs.append(j)\n",
    "    return goodQJs"
   ]
  },
  {
   "cell_type": "code",
   "execution_count": 64,
   "id": "f4b9b9e2",
   "metadata": {},
   "outputs": [],
   "source": [
    "def h_x(x, y, n, d, S, QJs):\n",
    "    #get set of good qjs\n",
    "    #goodQJs = getGoodQJs(n,d,S)\n",
    "    sum = 0\n",
    "    \n",
    "    #take votes from each qj on x\n",
    "    for j in QJs:\n",
    "        if x[j] == str(y):\n",
    "            sum += 1\n",
    "        else: \n",
    "            sum += 0\n",
    "            \n",
    "    #return 1 if a majority vote yes, 0 otherwise\n",
    "    if sum >= (len(QJs)/2): \n",
    "        return 1\n",
    "    else:\n",
    "        return 0"
   ]
  },
  {
   "cell_type": "code",
   "execution_count": 65,
   "id": "5874295a",
   "metadata": {},
   "outputs": [],
   "source": [
    "def q_h(x, y, n, d, S, QJs):\n",
    "    \n",
    "        h_x_result = h_x(x, y, n, d, S, QJs)\n",
    "        if h_x_result == y:\n",
    "            return 1\n",
    "        else: \n",
    "            return 0  \n"
   ]
  },
  {
   "cell_type": "code",
   "execution_count": 66,
   "id": "d06a5f7d",
   "metadata": {},
   "outputs": [],
   "source": [
    "def get_err(n, d, S, QJs):\n",
    "    #good_Qjs = getGoodQJs(n, d, S)\n",
    "    q_h_total = 0\n",
    "    i = 0\n",
    "    \n",
    "    for pairs in S: \n",
    "        q_h_total += q_h(S[i][0], S[i][1], n, d, S, QJs)\n",
    "        i += 1\n",
    "    \n",
    "    return (q_h_total/n)"
   ]
  },
  {
   "cell_type": "code",
   "execution_count": 84,
   "id": "e5046a1a",
   "metadata": {},
   "outputs": [],
   "source": [
    "def testing_as_n_increases(n, d):\n",
    "    S = getS(n, d)\n",
    "    good_QJs = getGoodQJs(n, d, S)\n",
    "    errors= []\n",
    "    current_n = n\n",
    "    currentQJs = []\n",
    "    \n",
    "    for i in range(n):\n",
    "        \n",
    "        for qj in good_QJs:\n",
    "            if qj < current_n:\n",
    "                currentQJs.append(qj)\n",
    "            \n",
    "        errors.append(get_err(current_n, d, S[:current_n], currentQJs))\n",
    "        current_n += n\n",
    "    \n",
    "    return errors\n",
    "    "
   ]
  },
  {
   "cell_type": "code",
   "execution_count": 101,
   "id": "5c5f8d6b",
   "metadata": {},
   "outputs": [],
   "source": [
    "def testing_as_d_increases(n, d): \n",
    "    current_d = d\n",
    "    Errors = []\n",
    "    \n",
    "    for i in range(100): \n",
    "        S = getS(n,current_d)\n",
    "        goodQJs = getGoodQJs(n, current_d, S)\n",
    "        \n",
    "        Errors.append(get_err(n, current_d, S, goodQJs))\n",
    "        d = d*2\n",
    "    \n",
    "    return Errors\n",
    "    "
   ]
  },
  {
   "cell_type": "code",
   "execution_count": 104,
   "id": "eb712c74",
   "metadata": {},
   "outputs": [],
   "source": [
    "error_as_n_increases = testing_as_n_increases(15, 10)"
   ]
  },
  {
   "cell_type": "code",
   "execution_count": 105,
   "id": "74d31ba3",
   "metadata": {},
   "outputs": [
    {
     "data": {
      "text/plain": [
       "[<matplotlib.lines.Line2D at 0x298e34a8ca0>]"
      ]
     },
     "execution_count": 105,
     "metadata": {},
     "output_type": "execute_result"
    },
    {
     "data": {
      "image/png": "[encoded data removed]",
      "text/plain": [
       "<Figure size 432x288 with 1 Axes>"
      ]
     },
     "metadata": {
      "needs_background": "light"
     },
     "output_type": "display_data"
    }
   ],
   "source": [
    "plt.plot(Errors)"
   ]
  },
  {
   "cell_type": "code",
   "execution_count": 106,
   "id": "a7039e20",
   "metadata": {},
   "outputs": [],
   "source": [
    "error_as_d_increases = testing_as_d_increases(50, 3)"
   ]
  },
  {
   "cell_type": "code",
   "execution_count": 108,
   "id": "413606ec",
   "metadata": {},
   "outputs": [
    {
     "data": {
      "text/plain": [
       "[<matplotlib.lines.Line2D at 0x298e56ae280>]"
      ]
     },
     "execution_count": 108,
     "metadata": {},
     "output_type": "execute_result"
    },
    {
     "data": {
      "image/png": "[encoded data removed]",
      "text/plain": [
       "<Figure size 432x288 with 1 Axes>"
      ]
     },
     "metadata": {
      "needs_background": "light"
     },
     "output_type": "display_data"
    }
   ],
   "source": [
    "plt.plot(error_as_d_increases)"
   ]
  },
  {
   "cell_type": "code",
   "execution_count": null,
   "id": "0be331e9",
   "metadata": {},
   "outputs": [],
   "source": []
  }
 ],
 "metadata": {
  "kernelspec": {
   "display_name": "Python 3",
   "language": "python",
   "name": "python3"
  },
  "language_info": {
   "codemirror_mode": {
    "name": "ipython",
    "version": 3
   },
   "file_extension": ".py",
   "mimetype": "text/x-python",
   "name": "python",
   "nbconvert_exporter": "python",
   "pygments_lexer": "ipython3",
   "version": "3.8.8"
  }
 },
 "nbformat": 4,
 "nbformat_minor": 5
}
